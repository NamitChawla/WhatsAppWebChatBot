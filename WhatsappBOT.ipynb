{
 "cells": [
  {
   "cell_type": "code",
   "execution_count": 40,
   "metadata": {
    "scrolled": true
   },
   "outputs": [],
   "source": [
    "from selenium import webdriver"
   ]
  },
  {
   "cell_type": "code",
   "execution_count": 41,
   "metadata": {},
   "outputs": [],
   "source": [
    "driver = webdriver.Chrome()"
   ]
  },
  {
   "cell_type": "code",
   "execution_count": 42,
   "metadata": {},
   "outputs": [],
   "source": [
    "driver.get(\"https://web.whatsapp.com/\")"
   ]
  },
  {
   "cell_type": "code",
   "execution_count": 43,
   "metadata": {},
   "outputs": [
    {
     "name": "stdout",
     "output_type": "stream",
     "text": [
      "Enter the name of person you want to spam: RoHIT\n",
      "Enter the msg that is to be spammed: HELLO\n",
      "Enter the repeatition count200\n",
      "Enter 1 after scanning the QR code1\n"
     ]
    },
    {
     "data": {
      "text/plain": [
       "'1'"
      ]
     },
     "execution_count": 43,
     "metadata": {},
     "output_type": "execute_result"
    }
   ],
   "source": [
    "name = input(\"Enter the name of person you want to spam: \")\n",
    "msg = input(\"Enter the msg that is to be spammed: \")\n",
    "count = int(input(\"Enter the repeatition count\"))\n",
    "input(\"Enter 1 after scanning the QR code\")"
   ]
  },
  {
   "cell_type": "code",
   "execution_count": 44,
   "metadata": {},
   "outputs": [],
   "source": [
    "user = driver.find_element_by_xpath('//span[@title = \"{}\"]'.format(name))\n",
    "\n",
    "msg_box = driver.find_element_by_class_name('copyable-text')\n",
    "user.click()"
   ]
  },
 
   ],
   "source": [
    "for i in range(count):\n",
    "    msg_box.send_keys(msg)\n",
    "    button = driver.find_element_by_class_name('_3M-N-')\n",
    "    button.click()"
   ]
  },
  {
   "cell_type": "code",
   "execution_count": null,
   "metadata": {},
   "outputs": [],
   "source": []
  }
 ],
 "metadata": {
  "kernelspec": {
   "display_name": "Python 3",
   "language": "python",
   "name": "python3"
  },
  "language_info": {
   "codemirror_mode": {
    "name": "ipython",
    "version": 3
   },
   "file_extension": ".py",
   "mimetype": "text/x-python",
   "name": "python",
   "nbconvert_exporter": "python",
   "pygments_lexer": "ipython3",
   "version": "3.7.1"
  }
 },
 "nbformat": 4,
 "nbformat_minor": 2
}
